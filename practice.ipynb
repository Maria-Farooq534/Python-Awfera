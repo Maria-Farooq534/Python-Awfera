{
 "cells": [
  {
   "cell_type": "code",
   "execution_count": null,
   "metadata": {},
   "outputs": [],
   "source": [
    "# Emoji Converter\n",
    "user_input = input(\"> \")\n",
    "split_user_string = user_input.split(\" \")\n",
    "emojis = {\n",
    "    \":)\" : \"😊\",\n",
    "    \":(\" : \"😒\"\n",
    "}"
   ]
  }
 ],
 "metadata": {
  "kernelspec": {
   "display_name": "Python 3",
   "language": "python",
   "name": "python3"
  },
  "language_info": {
   "name": "python",
   "version": "3.12.5"
  }
 },
 "nbformat": 4,
 "nbformat_minor": 2
}
