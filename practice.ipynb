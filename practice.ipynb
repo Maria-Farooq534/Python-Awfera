{
 "cells": [
  {
   "cell_type": "code",
   "execution_count": 3,
   "metadata": {},
   "outputs": [
    {
     "name": "stdout",
     "output_type": "stream",
     "text": [
      "Hi there, welcome 😊 \n"
     ]
    }
   ],
   "source": [
    "# Emoji Converter\n",
    "user_input = input(\"> \")\n",
    "words = user_input.split(\" \")\n",
    "emojis = {\n",
    "    \":)\" : \"😊\",\n",
    "    \":(\" : \"😒\"\n",
    "}\n",
    "output = \"\"\n",
    "for word in words:\n",
    "    output += emojis.get(word , word)  + \" \"\n",
    "print(output)"
   ]
  },
  {
   "cell_type": "code",
   "execution_count": null,
   "metadata": {},
   "outputs": [
    {
     "name": "stdout",
     "output_type": "stream",
     "text": [
      "Hi there!\n",
      "Welcome!\n"
     ]
    }
   ],
   "source": [
    "#User Greeting Function\n",
    "#Calling function without parameter\n",
    "def user_greeting():\n",
    "    print(\"Hi there!\")\n",
    "    print(\"Welcome!\")\n",
    "    \n",
    "\n",
    "user_greeting()"
   ]
  }
 ],
 "metadata": {
  "kernelspec": {
   "display_name": "Python 3",
   "language": "python",
   "name": "python3"
  },
  "language_info": {
   "codemirror_mode": {
    "name": "ipython",
    "version": 3
   },
   "file_extension": ".py",
   "mimetype": "text/x-python",
   "name": "python",
   "nbconvert_exporter": "python",
   "pygments_lexer": "ipython3",
   "version": "3.12.5"
  }
 },
 "nbformat": 4,
 "nbformat_minor": 2
}
