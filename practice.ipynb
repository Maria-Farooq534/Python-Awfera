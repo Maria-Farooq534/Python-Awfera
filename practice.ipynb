{
 "cells": [
  {
   "cell_type": "code",
   "execution_count": 3,
   "metadata": {},
   "outputs": [
    {
     "name": "stdout",
     "output_type": "stream",
     "text": [
      "Hi there, welcome 😊 \n"
     ]
    }
   ],
   "source": [
    "# Emoji Converter\n",
    "user_input = input(\"> \")\n",
    "words = user_input.split(\" \")\n",
    "emojis = {\n",
    "    \":)\" : \"😊\",\n",
    "    \":(\" : \"😒\"\n",
    "}\n",
    "output = \"\"\n",
    "for word in words:\n",
    "    output += emojis.get(word , word)  + \" \"\n",
    "print(output)"
   ]
  },
  {
   "cell_type": "code",
   "execution_count": 9,
   "metadata": {},
   "outputs": [
    {
     "name": "stdout",
     "output_type": "stream",
     "text": [
      "hi 😊 \n"
     ]
    }
   ],
   "source": [
    "\n",
    "\n",
    "def emoji_converter(message):\n",
    "    splitted_words = message.split(\" \")\n",
    "    emoji = {\n",
    "    \":)\" : \"😊\",\n",
    "    \":(\" : \"😒\"\n",
    "}\n",
    "    display_output = ''\n",
    "    for each_word in splitted_words:\n",
    "        display_output = display_output + emoji.get(each_word , each_word) + \" \"\n",
    "    return display_output\n",
    "\n",
    "message = input(\"> \")\n",
    "print(emoji_converter(message))\n",
    "        "
   ]
  }
 ],
 "metadata": {
  "kernelspec": {
   "display_name": "Python 3",
   "language": "python",
   "name": "python3"
  },
  "language_info": {
   "codemirror_mode": {
    "name": "ipython",
    "version": 3
   },
   "file_extension": ".py",
   "mimetype": "text/x-python",
   "name": "python",
   "nbconvert_exporter": "python",
   "pygments_lexer": "ipython3",
   "version": "3.12.5"
  }
 },
 "nbformat": 4,
 "nbformat_minor": 2
}
