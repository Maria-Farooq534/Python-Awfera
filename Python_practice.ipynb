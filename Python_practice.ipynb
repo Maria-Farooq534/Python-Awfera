{
 "cells": [
  {
   "cell_type": "code",
   "execution_count": 1,
   "metadata": {},
   "outputs": [
    {
     "name": "stdout",
     "output_type": "stream",
     "text": [
      "The index is: 0 and the fruit is: banana\n",
      "The index is: 1 and the fruit is: apple\n",
      "The index is: 2 and the fruit is: orange\n",
      "The index is: 3 and the fruit is: mango\n"
     ]
    }
   ],
   "source": [
    "fruits = ['banana', 'apple', 'orange' , 'mango']\n",
    "for index_number, fruit in enumerate(fruits):\n",
    "    print(f\"The index is: {index_number} and the fruit is: {fruit}\")"
   ]
  },
  {
   "cell_type": "code",
   "execution_count": 2,
   "metadata": {},
   "outputs": [
    {
     "name": "stdout",
     "output_type": "stream",
     "text": [
      "Index is: 0 and fruit is: banana\n",
      "Index is: 1 and fruit is: apple\n",
      "Index is: 2 and fruit is: orange\n",
      "Index is: 3 and fruit is: mango\n"
     ]
    }
   ],
   "source": [
    "#Method 2\n",
    "\n",
    "fruits = ['banana', 'apple', 'orange' , 'mango']\n",
    "\n",
    "index = 0\n",
    "for fruit in fruits:\n",
    "    print(f\"Index is: {index} and fruit is: {fruit}\")\n",
    "    index += 1\n",
    "#using index variable"
   ]
  },
  {
   "cell_type": "markdown",
   "metadata": {},
   "source": [
    "For loop on dictionary"
   ]
  },
  {
   "cell_type": "code",
   "execution_count": 10,
   "metadata": {},
   "outputs": [
    {
     "name": "stdout",
     "output_type": "stream",
     "text": [
      "Key is: name: Maria\n",
      "Key is: age: 23\n",
      "Key is: gender: Female\n"
     ]
    }
   ],
   "source": [
    "person = {\n",
    "    \"name\" : \"Maria\",\n",
    "    \"age\" : 23,\n",
    "    \"gender\" :\"Female\"\n",
    "}\n",
    "for item in person:\n",
    "    print(f\"Key is: {item}:\" , person[item])"
   ]
  },
  {
   "cell_type": "markdown",
   "metadata": {},
   "source": [
    "In dictionary , when we write the name of the dictionary along with its index:\n",
    "person[item]\n",
    "i can now access its value\n",
    "\n",
    "it will check the item and pick the value against that key from the person dictionary\n",
    "(item's key)"
   ]
  },
  {
   "cell_type": "code",
   "execution_count": 2,
   "metadata": {},
   "outputs": [
    {
     "name": "stdout",
     "output_type": "stream",
     "text": [
      "index is: 0 and color: red\n",
      "index is: 1 and color: orange\n",
      "index is: 2 and color: blue\n"
     ]
    }
   ],
   "source": [
    "color = [\"red\", 'orange','blue']\n",
    "index= 0\n",
    "for item in color:\n",
    "    print(f'index is: {index} and color: {item}')\n",
    "    index += 1"
   ]
  },
  {
   "cell_type": "markdown",
   "metadata": {},
   "source": [
    "Another Built in function"
   ]
  },
  {
   "cell_type": "code",
   "execution_count": null,
   "metadata": {},
   "outputs": [
    {
     "name": "stdout",
     "output_type": "stream",
     "text": [
      "name is: Maria\n",
      "age is: 23\n",
      "gender is: Female\n"
     ]
    }
   ],
   "source": [
    "person = {\n",
    "    \"name\" : \"Maria\",\n",
    "    \"age\" : 23,\n",
    "    \"gender\" :\"Female\"\n",
    "}\n",
    "\n",
    "for key, value in person.items(): # The variables key and values may have any name.\n",
    "    print(f\"{key} is: {value}\")"
   ]
  },
  {
   "cell_type": "markdown",
   "metadata": {},
   "source": [
    "#For loop using loop control statement\n"
   ]
  },
  {
   "cell_type": "code",
   "execution_count": null,
   "metadata": {},
   "outputs": [
    {
     "name": "stdout",
     "output_type": "stream",
     "text": [
      "The color is:  black\n",
      "skip red\n",
      "The color is:  orange\n",
      "The color is:  blue\n",
      "The color is:  green\n",
      "Breaking at pink\n"
     ]
    }
   ],
   "source": [
    "colors = ['black' ,\"red\", 'orange','blue', 'green' , 'pink', 'yellow']\n",
    "\n",
    "for items in colors:\n",
    "    if items == \"red\":\n",
    "        print(\"skip red\")\n",
    "        continue\n",
    "    elif items == 'pink':\n",
    "        print(\"Breaking at pink\")\n",
    "        break\n",
    "    else:\n",
    "        print(\"The color is: \", items)\n",
    "else:\n",
    "    print(\"Loop ends\")"
   ]
  },
  {
   "cell_type": "code",
   "execution_count": 12,
   "metadata": {},
   "outputs": [
    {
     "name": "stdout",
     "output_type": "stream",
     "text": [
      "The number is: 0\n",
      "The number is: 1\n",
      "The number is: 2\n",
      "The number is: 3\n"
     ]
    }
   ],
   "source": [
    "count = 0\n",
    "while count < 4:\n",
    "    print(\"The number is:\", count)\n",
    "    count += 1"
   ]
  }
 ],
 "metadata": {
  "kernelspec": {
   "display_name": "Python 3",
   "language": "python",
   "name": "python3"
  },
  "language_info": {
   "codemirror_mode": {
    "name": "ipython",
    "version": 3
   },
   "file_extension": ".py",
   "mimetype": "text/x-python",
   "name": "python",
   "nbconvert_exporter": "python",
   "pygments_lexer": "ipython3",
   "version": "3.12.5"
  }
 },
 "nbformat": 4,
 "nbformat_minor": 2
}
