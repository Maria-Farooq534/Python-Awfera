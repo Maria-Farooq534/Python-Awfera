{
 "cells": [
  {
   "cell_type": "code",
   "execution_count": 1,
   "metadata": {},
   "outputs": [
    {
     "name": "stdout",
     "output_type": "stream",
     "text": [
      "The index is: 0 and the fruit is: banana\n",
      "The index is: 1 and the fruit is: apple\n",
      "The index is: 2 and the fruit is: orange\n",
      "The index is: 3 and the fruit is: mango\n"
     ]
    }
   ],
   "source": [
    "fruits = ['banana', 'apple', 'orange' , 'mango']\n",
    "for index_number, fruit in enumerate(fruits):\n",
    "    print(f\"The index is: {index_number} and the fruit is: {fruit}\")"
   ]
  }
 ],
 "metadata": {
  "kernelspec": {
   "display_name": "Python 3",
   "language": "python",
   "name": "python3"
  },
  "language_info": {
   "codemirror_mode": {
    "name": "ipython",
    "version": 3
   },
   "file_extension": ".py",
   "mimetype": "text/x-python",
   "name": "python",
   "nbconvert_exporter": "python",
   "pygments_lexer": "ipython3",
   "version": "3.12.5"
  }
 },
 "nbformat": 4,
 "nbformat_minor": 2
}
