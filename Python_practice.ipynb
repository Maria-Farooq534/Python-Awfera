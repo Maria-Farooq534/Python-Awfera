{
 "cells": [
  {
   "cell_type": "code",
   "execution_count": 1,
   "metadata": {},
   "outputs": [
    {
     "name": "stdout",
     "output_type": "stream",
     "text": [
      "The index is: 0 and the fruit is: banana\n",
      "The index is: 1 and the fruit is: apple\n",
      "The index is: 2 and the fruit is: orange\n",
      "The index is: 3 and the fruit is: mango\n"
     ]
    }
   ],
   "source": [
    "fruits = ['banana', 'apple', 'orange' , 'mango']\n",
    "for index_number, fruit in enumerate(fruits):\n",
    "    print(f\"The index is: {index_number} and the fruit is: {fruit}\")"
   ]
  },
  {
   "cell_type": "code",
   "execution_count": 2,
   "metadata": {},
   "outputs": [
    {
     "name": "stdout",
     "output_type": "stream",
     "text": [
      "Index is: 0 and fruit is: banana\n",
      "Index is: 1 and fruit is: apple\n",
      "Index is: 2 and fruit is: orange\n",
      "Index is: 3 and fruit is: mango\n"
     ]
    }
   ],
   "source": [
    "#Method 2\n",
    "\n",
    "fruits = ['banana', 'apple', 'orange' , 'mango']\n",
    "\n",
    "index = 0\n",
    "for fruit in fruits:\n",
    "    print(f\"Index is: {index} and fruit is: {fruit}\")\n",
    "    index += 1\n",
    "#using index variable"
   ]
  },
  {
   "cell_type": "markdown",
   "metadata": {},
   "source": [
    "For loop on dictionary"
   ]
  },
  {
   "cell_type": "code",
   "execution_count": 10,
   "metadata": {},
   "outputs": [
    {
     "name": "stdout",
     "output_type": "stream",
     "text": [
      "Key is: name: Maria\n",
      "Key is: age: 23\n",
      "Key is: gender: Female\n"
     ]
    }
   ],
   "source": [
    "person = {\n",
    "    \"name\" : \"Maria\",\n",
    "    \"age\" : 23,\n",
    "    \"gender\" :\"Female\"\n",
    "}\n",
    "for item in person:\n",
    "    print(f\"Key is: {item}:\" , person[item])"
   ]
  }
 ],
 "metadata": {
  "kernelspec": {
   "display_name": "Python 3",
   "language": "python",
   "name": "python3"
  },
  "language_info": {
   "codemirror_mode": {
    "name": "ipython",
    "version": 3
   },
   "file_extension": ".py",
   "mimetype": "text/x-python",
   "name": "python",
   "nbconvert_exporter": "python",
   "pygments_lexer": "ipython3",
   "version": "3.12.5"
  }
 },
 "nbformat": 4,
 "nbformat_minor": 2
}
