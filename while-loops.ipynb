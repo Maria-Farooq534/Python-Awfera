{
 "cells": [
  {
   "cell_type": "markdown",
   "metadata": {},
   "source": [
    "While Loops"
   ]
  },
  {
   "cell_type": "code",
   "execution_count": 1,
   "metadata": {},
   "outputs": [
    {
     "name": "stdout",
     "output_type": "stream",
     "text": [
      "Count is:  0\n",
      "Count is:  1\n",
      "Count is:  2\n",
      "Count is:  3\n",
      "Count is:  4\n"
     ]
    }
   ],
   "source": [
    "count = 0\n",
    "while count < 5:\n",
    "    print(\"Count is: \" , count)\n",
    "    count += 1"
   ]
  },
  {
   "cell_type": "markdown",
   "metadata": {},
   "source": [
    "while loop using break statements"
   ]
  },
  {
   "cell_type": "code",
   "execution_count": 4,
   "metadata": {},
   "outputs": [
    {
     "name": "stdout",
     "output_type": "stream",
     "text": [
      "The number:  0\n",
      "The number:  1\n",
      "The number:  2\n",
      "The number:  3\n",
      "Skipping 4\n",
      "The number:  5\n",
      "The number:  6\n",
      "The number:  7\n",
      "Breaking at 8\n"
     ]
    }
   ],
   "source": [
    "for item in range(10):\n",
    "    if item == 4:\n",
    "        print(\"Skipping 4\")\n",
    "        continue\n",
    "    elif item == 8:\n",
    "        print(\"Breaking at 8\")\n",
    "        break\n",
    "    print(\"The number: \" , item)\n",
    "else:\n",
    "    print(\"Nothing to print\")"
   ]
  }
 ],
 "metadata": {
  "kernelspec": {
   "display_name": "Python 3",
   "language": "python",
   "name": "python3"
  },
  "language_info": {
   "codemirror_mode": {
    "name": "ipython",
    "version": 3
   },
   "file_extension": ".py",
   "mimetype": "text/x-python",
   "name": "python",
   "nbconvert_exporter": "python",
   "pygments_lexer": "ipython3",
   "version": "3.12.5"
  }
 },
 "nbformat": 4,
 "nbformat_minor": 2
}
